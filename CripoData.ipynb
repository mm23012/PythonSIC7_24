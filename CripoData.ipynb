{
 "cells": [
  {
   "metadata": {
    "ExecuteTime": {
     "end_time": "2024-12-14T03:47:11.188347Z",
     "start_time": "2024-12-14T03:47:11.184011Z"
    }
   },
   "cell_type": "code",
   "source": [
    "\n",
    "import pandas as pd\n",
    "import os\n",
    "import matplotlib.pyplot as plt\n",
    "import numpy as np\n"
   ],
   "id": "f2ead169",
   "outputs": [],
   "execution_count": 1
  },
  {
   "metadata": {
    "ExecuteTime": {
     "end_time": "2024-12-13T23:46:25.982383Z",
     "start_time": "2024-12-13T23:46:25.647882Z"
    }
   },
   "cell_type": "code",
   "outputs": [],
   "execution_count": 2,
   "source": [
    "\n",
    "ruta_datos = './DataEconomy'\n",
    "archivos = [archivo for archivo in os.listdir(ruta_datos) if archivo.endswith('.csv')]\n",
    "\n",
    "datos_cripto = {}\n",
    "for archivo in archivos:\n",
    "    nombre_moneda = archivo.split('.')[0].lower()\n",
    "    try:\n",
    "        df = pd.read_csv(os.path.join(ruta_datos, archivo))\n",
    "        mapa_renombrar = {'Date': 'Fecha', 'date': 'Fecha', 'Timestamp': 'Fecha', 'fecha': 'Fecha',\n",
    "                          'price': 'Precio', 'total_volume': 'Volumen', 'market_cap': 'Capitalizacion'}\n",
    "        df.rename(columns={k: v for k, v in mapa_renombrar.items() if k in df.columns}, inplace=True)\n",
    "        if 'Fecha' in df.columns:\n",
    "            df['Fecha'] = pd.to_datetime(df['Fecha'], errors='coerce')\n",
    "        if 'Precio' in df.columns:\n",
    "            df['Precio'] = pd.to_numeric(df['Precio'], errors='coerce')\n",
    "        if 'Volumen' in df.columns:\n",
    "            df['Volumen'] = pd.to_numeric(df['Volumen'], errors='coerce')\n",
    "        if 'Capitalizacion' in df.columns:\n",
    "            df['Capitalizacion'] = pd.to_numeric(df['Capitalizacion'], errors='coerce')\n",
    "        df.dropna(subset=['Fecha', 'Precio'], inplace=True)\n",
    "        datos_cripto[nombre_moneda] = df\n",
    "    except Exception as e:\n",
    "        print(f\"Error al procesar {archivo}: {e}\")\n"
   ],
   "id": "c5c8a35c"
  },
  {
   "metadata": {
    "ExecuteTime": {
     "end_time": "2024-12-13T23:46:26.172630Z",
     "start_time": "2024-12-13T23:46:26.142361Z"
    }
   },
   "cell_type": "code",
   "outputs": [],
   "execution_count": 3,
   "source": [
    "\n",
    "estadisticas_cripto = {}\n",
    "for moneda, df in datos_cripto.items():\n",
    "    df_2015 = df[df['Fecha'].dt.year == 2015]\n",
    "    media_precio = df_2015['Precio'].mean()\n",
    "    desviacion_precio = df_2015['Precio'].std()\n",
    "    estadisticas_cripto[moneda] = {'media': media_precio, 'desviacion': desviacion_precio}\n"
   ],
   "id": "5330363e"
  },
  {
   "metadata": {
    "ExecuteTime": {
     "end_time": "2024-12-13T23:46:26.198713Z",
     "start_time": "2024-12-13T23:46:26.194248Z"
    }
   },
   "cell_type": "code",
   "outputs": [],
   "execution_count": 4,
   "source": [
    "\n",
    "def mostrar_estadisticas(nombre_moneda):\n",
    "    df = datos_cripto.get(nombre_moneda)\n",
    "    if df is not None:\n",
    "        print(f\"\\nEstadísticas de {nombre_moneda.capitalize()}:\")\n",
    "        print(df.describe(), \"\\n\")\n",
    "    else:\n",
    "        print(f\"\\nCriptomoneda {nombre_moneda} no encontrada.\\n\")\n"
   ],
   "id": "c5dbf2b8"
  },
  {
   "metadata": {
    "ExecuteTime": {
     "end_time": "2024-12-13T23:46:26.263286Z",
     "start_time": "2024-12-13T23:46:26.257691Z"
    }
   },
   "cell_type": "code",
   "outputs": [],
   "execution_count": 5,
   "source": [
    "\n",
    "def ver_grafica(nombre_moneda):\n",
    "    df = datos_cripto.get(nombre_moneda)\n",
    "    if df is not None:\n",
    "        plt.figure(figsize=(10, 6))\n",
    "        plt.plot(df['Fecha'], df['Precio'], label=nombre_moneda.capitalize())\n",
    "        plt.title(f'Evolución del precio de {nombre_moneda.capitalize()}')\n",
    "        plt.xlabel('Fecha')\n",
    "        plt.ylabel('Precio (USD)')\n",
    "        plt.legend()\n",
    "        plt.grid(True)\n",
    "        plt.show()\n",
    "    else:\n",
    "        print(f\"\\nCriptomoneda {nombre_moneda} no encontrada.\\n\")\n"
   ],
   "id": "6f8a01da"
  },
  {
   "metadata": {
    "ExecuteTime": {
     "end_time": "2024-12-13T23:46:26.311259Z",
     "start_time": "2024-12-13T23:46:26.305319Z"
    }
   },
   "cell_type": "code",
   "outputs": [],
   "execution_count": 6,
   "source": [
    "\n",
    "def grafica_relevantes():\n",
    "    relevantes = ['bitcoin', 'ethereum', 'dogecoin', 'litecoin']\n",
    "    plt.figure(figsize=(10, 6))\n",
    "    for moneda in relevantes:\n",
    "        if moneda in datos_cripto:\n",
    "            df = datos_cripto[moneda]\n",
    "            df_2015 = df[df['Fecha'].dt.year == 2015]\n",
    "            plt.plot(df_2015['Fecha'], df_2015['Precio'], label=moneda.capitalize())\n",
    "    plt.title('Evolución de precios de las criptomonedas más relevantes en 2015')\n",
    "    plt.xlabel('Fecha')\n",
    "    plt.ylabel('Precio (USD)')\n",
    "    plt.legend()\n",
    "    plt.grid(True)\n",
    "    plt.show()\n"
   ],
   "id": "24c7f58c"
  },
  {
   "metadata": {
    "ExecuteTime": {
     "end_time": "2024-12-13T23:46:26.358656Z",
     "start_time": "2024-12-13T23:46:26.354796Z"
    }
   },
   "cell_type": "code",
   "outputs": [],
   "execution_count": 7,
   "source": [
    "\n",
    "def verificar_estabilidad(nombre_moneda):\n",
    "    estadisticas = estadisticas_cripto.get(nombre_moneda)\n",
    "    if estadisticas:\n",
    "        desviacion_total = np.mean([stat['desviacion'] for stat in estadisticas_cripto.values()])\n",
    "        if estadisticas['desviacion'] < desviacion_total:\n",
    "            print(\n",
    "                f\"\\n{nombre_moneda.capitalize()} fue estable en 2015 (Desviación estándar: {estadisticas['desviacion']:.2f}).\\n\")\n",
    "        else:\n",
    "            print(\n",
    "                f\"\\n{nombre_moneda.capitalize()} no fue estable en 2015 (Desviación estándar: {estadisticas['desviacion']:.2f}).\\n\")\n",
    "    else:\n",
    "        print(f\"\\nCriptomoneda {nombre_moneda} no encontrada.\\n\")\n"
   ],
   "id": "bda4eb5e"
  },
  {
   "metadata": {
    "ExecuteTime": {
     "end_time": "2024-12-13T23:46:26.418898Z",
     "start_time": "2024-12-13T23:46:26.413468Z"
    }
   },
   "cell_type": "code",
   "outputs": [],
   "execution_count": 8,
   "source": [
    "\n",
    "def criptos_por_encima_media():\n",
    "    media_global = np.mean([stat['media'] for stat in estadisticas_cripto.values()])\n",
    "\n",
    "    if np.isnan(media_global):\n",
    "        print(\"\\nNo se encontró ninguna criptomoneda por encima de la media en 2015.\\n\")\n",
    "        return\n",
    "\n",
    "    print(f\"\\nCriptomonedas por encima de la media ({media_global:.2f} USD) en 2015:\")\n",
    "\n",
    "    encontrada = False\n",
    "    for moneda, estadisticas in sorted(estadisticas_cripto.items(), key=lambda x: x[1]['media'], reverse=True):\n",
    "        if estadisticas['media'] > media_global:\n",
    "            print(f\"{moneda.capitalize()} - Media: {estadisticas['media']:.2f}\")\n",
    "            encontrada = True\n",
    "\n",
    "    if not encontrada:\n",
    "        print(\"No se encontró ninguna criptomoneda por encima de la media en 2015.\")\n"
   ],
   "id": "50134c41"
  },
  {
   "metadata": {
    "ExecuteTime": {
     "end_time": "2024-12-13T23:46:26.470279Z",
     "start_time": "2024-12-13T23:46:26.465436Z"
    }
   },
   "cell_type": "code",
   "outputs": [],
   "execution_count": 9,
   "source": [
    "\n",
    "def mostrar_menu():\n",
    "    opciones = {\n",
    "        '1': \"Ingresar nombre de la criptomoneda\",\n",
    "        '2': \"Ver gráfica de la criptomoneda\",\n",
    "        '3': \"Gráfica de las 4 criptomonedas más relevantes en 2015\",\n",
    "        '4': \"Verificar estabilidad de una criptomoneda en 2015\",\n",
    "        '5': \"Criptomonedas por encima de la media en 2015\",\n",
    "        '6': \"Salir\"\n",
    "    }\n",
    "    print(\"\\n--- Menú Principal ---\")\n",
    "    for clave, descripcion in opciones.items():\n",
    "        print(f\"{clave}. {descripcion}\")\n",
    "    return input(\"Seleccione una opción: \")\n"
   ],
   "id": "1f0380f53dc095a5"
  },
  {
   "metadata": {
    "ExecuteTime": {
     "end_time": "2024-12-13T23:46:29.724295Z",
     "start_time": "2024-12-13T23:46:26.533711Z"
    }
   },
   "cell_type": "code",
   "outputs": [
    {
     "name": "stdout",
     "output_type": "stream",
     "text": [
      "\n",
      "--- Menú Principal ---\n",
      "1. Ingresar nombre de la criptomoneda\n",
      "2. Ver gráfica de la criptomoneda\n",
      "3. Gráfica de las 4 criptomonedas más relevantes en 2015\n",
      "4. Verificar estabilidad de una criptomoneda en 2015\n",
      "5. Criptomonedas por encima de la media en 2015\n",
      "6. Salir\n"
     ]
    },
    {
     "ename": "KeyboardInterrupt",
     "evalue": "Interrupted by user",
     "output_type": "error",
     "traceback": [
      "\u001B[0;31m---------------------------------------------------------------------------\u001B[0m",
      "\u001B[0;31mKeyboardInterrupt\u001B[0m                         Traceback (most recent call last)",
      "Cell \u001B[0;32mIn[10], line 2\u001B[0m\n\u001B[1;32m      1\u001B[0m \u001B[38;5;28;01mwhile\u001B[39;00m \u001B[38;5;28;01mTrue\u001B[39;00m:\n\u001B[0;32m----> 2\u001B[0m         opcion \u001B[38;5;241m=\u001B[39m \u001B[43mmostrar_menu\u001B[49m\u001B[43m(\u001B[49m\u001B[43m)\u001B[49m\n\u001B[1;32m      3\u001B[0m         \u001B[38;5;28;01mif\u001B[39;00m opcion \u001B[38;5;241m==\u001B[39m \u001B[38;5;124m'\u001B[39m\u001B[38;5;124m1\u001B[39m\u001B[38;5;124m'\u001B[39m:\n\u001B[1;32m      4\u001B[0m             nombre_moneda \u001B[38;5;241m=\u001B[39m \u001B[38;5;28minput\u001B[39m(\u001B[38;5;124m\"\u001B[39m\u001B[38;5;124mIngrese el nombre de la criptomoneda: \u001B[39m\u001B[38;5;124m\"\u001B[39m)\u001B[38;5;241m.\u001B[39mlower()\n",
      "Cell \u001B[0;32mIn[9], line 13\u001B[0m, in \u001B[0;36mmostrar_menu\u001B[0;34m()\u001B[0m\n\u001B[1;32m     11\u001B[0m \u001B[38;5;28;01mfor\u001B[39;00m clave, descripcion \u001B[38;5;129;01min\u001B[39;00m opciones\u001B[38;5;241m.\u001B[39mitems():\n\u001B[1;32m     12\u001B[0m     \u001B[38;5;28mprint\u001B[39m(\u001B[38;5;124mf\u001B[39m\u001B[38;5;124m\"\u001B[39m\u001B[38;5;132;01m{\u001B[39;00mclave\u001B[38;5;132;01m}\u001B[39;00m\u001B[38;5;124m. \u001B[39m\u001B[38;5;132;01m{\u001B[39;00mdescripcion\u001B[38;5;132;01m}\u001B[39;00m\u001B[38;5;124m\"\u001B[39m)\n\u001B[0;32m---> 13\u001B[0m \u001B[38;5;28;01mreturn\u001B[39;00m \u001B[38;5;28;43minput\u001B[39;49m\u001B[43m(\u001B[49m\u001B[38;5;124;43m\"\u001B[39;49m\u001B[38;5;124;43mSeleccione una opción: \u001B[39;49m\u001B[38;5;124;43m\"\u001B[39;49m\u001B[43m)\u001B[49m\n",
      "File \u001B[0;32m~/PycharmProjects/SamsungProject/.venv1/lib/python3.11/site-packages/ipykernel/kernelbase.py:1282\u001B[0m, in \u001B[0;36mKernel.raw_input\u001B[0;34m(self, prompt)\u001B[0m\n\u001B[1;32m   1280\u001B[0m     msg \u001B[38;5;241m=\u001B[39m \u001B[38;5;124m\"\u001B[39m\u001B[38;5;124mraw_input was called, but this frontend does not support input requests.\u001B[39m\u001B[38;5;124m\"\u001B[39m\n\u001B[1;32m   1281\u001B[0m     \u001B[38;5;28;01mraise\u001B[39;00m StdinNotImplementedError(msg)\n\u001B[0;32m-> 1282\u001B[0m \u001B[38;5;28;01mreturn\u001B[39;00m \u001B[38;5;28;43mself\u001B[39;49m\u001B[38;5;241;43m.\u001B[39;49m\u001B[43m_input_request\u001B[49m\u001B[43m(\u001B[49m\n\u001B[1;32m   1283\u001B[0m \u001B[43m    \u001B[49m\u001B[38;5;28;43mstr\u001B[39;49m\u001B[43m(\u001B[49m\u001B[43mprompt\u001B[49m\u001B[43m)\u001B[49m\u001B[43m,\u001B[49m\n\u001B[1;32m   1284\u001B[0m \u001B[43m    \u001B[49m\u001B[38;5;28;43mself\u001B[39;49m\u001B[38;5;241;43m.\u001B[39;49m\u001B[43m_parent_ident\u001B[49m\u001B[43m[\u001B[49m\u001B[38;5;124;43m\"\u001B[39;49m\u001B[38;5;124;43mshell\u001B[39;49m\u001B[38;5;124;43m\"\u001B[39;49m\u001B[43m]\u001B[49m\u001B[43m,\u001B[49m\n\u001B[1;32m   1285\u001B[0m \u001B[43m    \u001B[49m\u001B[38;5;28;43mself\u001B[39;49m\u001B[38;5;241;43m.\u001B[39;49m\u001B[43mget_parent\u001B[49m\u001B[43m(\u001B[49m\u001B[38;5;124;43m\"\u001B[39;49m\u001B[38;5;124;43mshell\u001B[39;49m\u001B[38;5;124;43m\"\u001B[39;49m\u001B[43m)\u001B[49m\u001B[43m,\u001B[49m\n\u001B[1;32m   1286\u001B[0m \u001B[43m    \u001B[49m\u001B[43mpassword\u001B[49m\u001B[38;5;241;43m=\u001B[39;49m\u001B[38;5;28;43;01mFalse\u001B[39;49;00m\u001B[43m,\u001B[49m\n\u001B[1;32m   1287\u001B[0m \u001B[43m\u001B[49m\u001B[43m)\u001B[49m\n",
      "File \u001B[0;32m~/PycharmProjects/SamsungProject/.venv1/lib/python3.11/site-packages/ipykernel/kernelbase.py:1325\u001B[0m, in \u001B[0;36mKernel._input_request\u001B[0;34m(self, prompt, ident, parent, password)\u001B[0m\n\u001B[1;32m   1322\u001B[0m \u001B[38;5;28;01mexcept\u001B[39;00m \u001B[38;5;167;01mKeyboardInterrupt\u001B[39;00m:\n\u001B[1;32m   1323\u001B[0m     \u001B[38;5;66;03m# re-raise KeyboardInterrupt, to truncate traceback\u001B[39;00m\n\u001B[1;32m   1324\u001B[0m     msg \u001B[38;5;241m=\u001B[39m \u001B[38;5;124m\"\u001B[39m\u001B[38;5;124mInterrupted by user\u001B[39m\u001B[38;5;124m\"\u001B[39m\n\u001B[0;32m-> 1325\u001B[0m     \u001B[38;5;28;01mraise\u001B[39;00m \u001B[38;5;167;01mKeyboardInterrupt\u001B[39;00m(msg) \u001B[38;5;28;01mfrom\u001B[39;00m \u001B[38;5;28;01mNone\u001B[39;00m\n\u001B[1;32m   1326\u001B[0m \u001B[38;5;28;01mexcept\u001B[39;00m \u001B[38;5;167;01mException\u001B[39;00m:\n\u001B[1;32m   1327\u001B[0m     \u001B[38;5;28mself\u001B[39m\u001B[38;5;241m.\u001B[39mlog\u001B[38;5;241m.\u001B[39mwarning(\u001B[38;5;124m\"\u001B[39m\u001B[38;5;124mInvalid Message:\u001B[39m\u001B[38;5;124m\"\u001B[39m, exc_info\u001B[38;5;241m=\u001B[39m\u001B[38;5;28;01mTrue\u001B[39;00m)\n",
      "\u001B[0;31mKeyboardInterrupt\u001B[0m: Interrupted by user"
     ]
    }
   ],
   "execution_count": 10,
   "source": [
    "while True:\n",
    "        opcion = mostrar_menu()\n",
    "        if opcion == '1':\n",
    "            nombre_moneda = input(\"Ingrese el nombre de la criptomoneda: \").lower()\n",
    "            mostrar_estadisticas(nombre_moneda)\n",
    "        elif opcion == '2':\n",
    "            nombre_moneda = input(\"Ingrese el nombre de la criptomoneda: \").lower()\n",
    "            ver_grafica(nombre_moneda)\n",
    "        elif opcion == '3':\n",
    "            grafica_relevantes()\n",
    "        elif opcion == '4':\n",
    "            nombre_moneda = input(\"Ingrese el nombre de la criptomoneda: \").lower()\n",
    "            verificar_estabilidad(nombre_moneda)\n",
    "        elif opcion == '5':\n",
    "            criptos_por_encima_media()\n",
    "        elif opcion == '6':\n",
    "            print(\"Saliendo del programa...\")\n",
    "            break\n",
    "        else:\n",
    "            print(\"Opción Incorrecta, Intente de nuevo\")\n",
    "\n"
   ],
   "id": "781d78049f9c25ad"
  }
 ],
 "metadata": {
  "kernelspec": {
   "name": "python3",
   "language": "python",
   "display_name": "Python 3 (ipykernel)"
  }
 },
 "nbformat": 4,
 "nbformat_minor": 5
}
